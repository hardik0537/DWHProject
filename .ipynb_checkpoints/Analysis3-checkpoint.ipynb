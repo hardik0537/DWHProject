{
 "cells": [
  {
   "cell_type": "code",
   "execution_count": 10,
   "metadata": {
    "collapsed": true
   },
   "outputs": [],
   "source": [
    "import pandas as pd\n",
    "import datetime\n",
    "import numpy \n",
    "import seaborn as sns\n",
    "%matplotlib inline"
   ]
  },
  {
   "cell_type": "code",
   "execution_count": 24,
   "metadata": {},
   "outputs": [
    {
     "name": "stdout",
     "output_type": "stream",
     "text": [
      "date                      object\n",
      "OFNS_DESC                 object\n",
      "avg(humidity)            float64\n",
      "avg(pressure)            float64\n",
      "avg(temperature)         float64\n",
      "avg(wind_direction)      float64\n",
      "avg(wind_speed)          float64\n",
      "avg(weather_desc_cat)    float64\n",
      "ofns_ids                 float64\n",
      "dtype: object\n"
     ]
    }
   ],
   "source": [
    "climate_crime = pd.read_csv('ProcessedData/ny_climate_crime.csv')\n",
    "print(climate_crime.dtypes)"
   ]
  },
  {
   "cell_type": "code",
   "execution_count": null,
   "metadata": {
    "collapsed": true
   },
   "outputs": [],
   "source": [
    "# Removing labeled dimensions\n",
    "climate_crime = climate_crime.drop('date', axis=1)\n",
    "climate_crime = climate_crime.drop('OFNS_DESC', axis=1)\n",
    "\n",
    "\n",
    "corr = climate_crime.corr(method='spearman')\n",
    "sns.heatmap(corr)"
   ]
  },
  {
   "cell_type": "code",
   "execution_count": null,
   "metadata": {
    "collapsed": true
   },
   "outputs": [],
   "source": []
  },
  {
   "cell_type": "code",
   "execution_count": null,
   "metadata": {
    "collapsed": true
   },
   "outputs": [],
   "source": []
  },
  {
   "cell_type": "code",
   "execution_count": null,
   "metadata": {
    "collapsed": true
   },
   "outputs": [],
   "source": [
    "import pandas as pd\n",
    "import datetime\n",
    "import numpy \n",
    "from sklearn.ensemble import RandomForestClassifier\n",
    "climate_crime = pd.read_csv('ProcessedData/ny_climate_crime.csv')\n",
    "print(climate_crime.dtypes)\n",
    "climate_crime = climate_crime.drop('OFNS_DESC', axis=1)\n",
    "climate_crime = climate_crime.drop('date', axis=1)\n",
    "features_list = climate_crime.columns.values[0:6]\n",
    "print(\"Features List:\", features_list)\n",
    "X = climate_crime.values[:,0:6]\n",
    "#print(X)\n",
    "#set y equal to all Score values\n",
    "y = climate_crime.values[:,-1]\n",
    "#print(y)\n",
    "\n",
    "\n",
    "rf = RandomForestClassifier()\n",
    "rf.fit(X, y)\n",
    "print(\"Features sorted by their score:\")\n",
    "print(sorted(zip(map(lambda x: round(x, 4), rf.feature_importances_), features_list), \n",
    "             reverse=True))"
   ]
  }
 ],
 "metadata": {
  "kernelspec": {
   "display_name": "Python 3",
   "language": "python",
   "name": "python3"
  },
  "language_info": {
   "codemirror_mode": {
    "name": "ipython",
    "version": 3
   },
   "file_extension": ".py",
   "mimetype": "text/x-python",
   "name": "python",
   "nbconvert_exporter": "python",
   "pygments_lexer": "ipython3",
   "version": "3.6.1"
  }
 },
 "nbformat": 4,
 "nbformat_minor": 2
}
